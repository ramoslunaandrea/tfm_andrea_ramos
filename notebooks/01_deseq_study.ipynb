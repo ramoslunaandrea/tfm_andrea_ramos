{
 "cells": [
  {
   "cell_type": "code",
   "execution_count": null,
   "id": "fac97536-619e-4e25-85d6-11a823a34424",
   "metadata": {},
   "outputs": [],
   "source": [
    "# IMPORTS AND VERSION CHECK\n",
    "from pathlib import Path\n",
    "import os\n",
    "import re\n",
    "import numpy as np\n",
    "import pandas as pd\n",
    "import matplotlib.pyplot as plt\n",
    "import seaborn as sns\n",
    "from dotenv import load_dotenv\n",
    "import sys\n",
    "\n",
    "# PyDESeq2\n",
    "from pydeseq2.dds import DeseqDataSet\n",
    "from pydeseq2.ds import DeseqStats\n",
    "\n",
    "# Config reproducible\n",
    "np.random.seed(16)"
   ]
  },
  {
   "cell_type": "code",
   "execution_count": 5,
   "id": "2a069856-b21f-4915-adc9-929e338d6f25",
   "metadata": {},
   "outputs": [
    {
     "name": "stdout",
     "output_type": "stream",
     "text": [
      "Repo root: c:\\Users\\Andre\\OneDrive\\Escritorio\\tfm_andrea_ramos\n",
      "Raw data path: data\\raw\\functional_annotation\n",
      "Metadata path: data\\metadata\n",
      "Metadata file: metadata.csv\n",
      "Output path: results\\01_deseq_study\n"
     ]
    }
   ],
   "source": [
    "# ENV AND PATHS\n",
    "\n",
    "# Load environment variables from .env file\n",
    "repo_root = Path.cwd().parent\n",
    "load_dotenv(dotenv_path=repo_root / \".env\")\n",
    "\n",
    "# Paths\n",
    "RUTA_RAW = Path(os.getenv(\"RUTA_RAW\", \"data/raw/functional_annotation\"))\n",
    "RUTA_META = Path(os.getenv(\"RUTA_META\", \"data/metadata\"))\n",
    "META_FILE = os.getenv(\"META_FILE\", \"meta.csv\")\n",
    "\n",
    "# Outputs\n",
    "analysis_name = \"01_deseq_study\"\n",
    "OUT_ROOT = Path(\"results\") / analysis_name\n",
    "OUT_CSV = OUT_ROOT / \"csv\"\n",
    "OUT_PLOTS = OUT_ROOT / \"plots\"    \n",
    "for d in [OUT_ROOT, OUT_CSV, OUT_PLOTS]:\n",
    "    d.mkdir(parents=True, exist_ok=True)\n",
    "\n",
    "print(f\"Repo root: {repo_root}\")\n",
    "print(f\"Raw data path: {RUTA_RAW}\")\n",
    "print(f\"Metadata path: {RUTA_META}\")\n",
    "print(f\"Metadata file: {META_FILE}\")\n",
    "print(f\"Output path: {OUT_ROOT}\")"
   ]
  },
  {
   "cell_type": "code",
   "execution_count": null,
   "id": "3aba8510",
   "metadata": {},
   "outputs": [],
   "source": []
  }
 ],
 "metadata": {
  "kernelspec": {
   "display_name": "tfm",
   "language": "python",
   "name": "python3"
  },
  "language_info": {
   "codemirror_mode": {
    "name": "ipython",
    "version": 3
   },
   "file_extension": ".py",
   "mimetype": "text/x-python",
   "name": "python",
   "nbconvert_exporter": "python",
   "pygments_lexer": "ipython3",
   "version": "3.11.14"
  }
 },
 "nbformat": 4,
 "nbformat_minor": 5
}
